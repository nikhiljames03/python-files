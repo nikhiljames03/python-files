{
 "cells": [
  {
   "cell_type": "markdown",
   "id": "b50cdd56",
   "metadata": {},
   "source": [
    "## 1)Write a Python program to find the maximum and minimum values in a tuple of integers"
   ]
  },
  {
   "cell_type": "code",
   "execution_count": 3,
   "id": "da651f9a",
   "metadata": {},
   "outputs": [
    {
     "name": "stdout",
     "output_type": "stream",
     "text": [
      "Maximum value of this tuple is : 2\n",
      "Minimum value of this tuple is : -5\n"
     ]
    }
   ],
   "source": [
    "x = (1, 2, -5)\n",
    "s =list(x)\n",
    "print(\"Maximum value of this tuple is :\",max(s))\n",
    "print(\"Minimum value of this tuple is :\",min(s))"
   ]
  },
  {
   "attachments": {},
   "cell_type": "markdown",
   "id": "ce2481ac",
   "metadata": {},
   "source": [
    "## 2.\tWrite a Python program to concatenate two tuples element-wise"
   ]
  },
  {
   "cell_type": "code",
   "execution_count": 4,
   "id": "7adafe8e",
   "metadata": {},
   "outputs": [
    {
     "name": "stdout",
     "output_type": "stream",
     "text": [
      "(1, 2, 4, 5, 6, 0, 1, 2, 3)\n"
     ]
    }
   ],
   "source": [
    "x = (1, 2, 4, 5, 6)\n",
    "y = (0, 1, 2, 3)\n",
    "z = list(x) + list(y)\n",
    "print(tuple(z))"
   ]
  },
  {
   "attachments": {},
   "cell_type": "markdown",
   "id": "fbdb1875",
   "metadata": {},
   "source": [
    "## 3.\tWrite a Python program to count the number of occurrences of an element in a tuple"
   ]
  },
  {
   "cell_type": "code",
   "execution_count": null,
   "id": "3c0cb3d6",
   "metadata": {},
   "outputs": [],
   "source": [
    "x = (1, 2, 1, 5, 6)\n",
    "z = list(x)\n",
    "for i in range(z):\n",
    "    for j in range(0,len(z)):\n",
    "        if i == j:\n",
    "            count"
   ]
  }
 ],
 "metadata": {
  "kernelspec": {
   "display_name": "Python 3 (ipykernel)",
   "language": "python",
   "name": "python3"
  },
  "language_info": {
   "codemirror_mode": {
    "name": "ipython",
    "version": 3
   },
   "file_extension": ".py",
   "mimetype": "text/x-python",
   "name": "python",
   "nbconvert_exporter": "python",
   "pygments_lexer": "ipython3",
   "version": "3.11.5"
  }
 },
 "nbformat": 4,
 "nbformat_minor": 5
}
